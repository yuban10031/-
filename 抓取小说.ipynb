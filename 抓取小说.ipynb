{
 "cells": [
  {
   "cell_type": "code",
   "execution_count": null,
   "metadata": {},
   "outputs": [],
   "source": []
  },
  {
   "cell_type": "code",
   "execution_count": 26,
   "metadata": {},
   "outputs": [
    {
     "name": "stdout",
     "output_type": "stream",
     "text": [
      "<li data-rid=\"1\"> <div class=\"book-img-box\"> <span class=\"rank-tag no1\">1<cite></cite></span> <a data-bid=\"1004608738\" data-eid=\"qd_C39\" href=\"//book.qidian.com/info/1004608738\" target=\"_blank\"><img src=\"//qidian.qpic.cn/qdbimg/349573/1004608738/150\"/></a> </div> <div class=\"book-mid-info\"> <h4><a data-bid=\"1004608738\" data-eid=\"qd_C40\" href=\"//book.qidian.com/info/1004608738\" target=\"_blank\">圣墟</a></h4> <p class=\"author\"> <img src=\"//qidian.gtimg.com/qd/images/ico/user.0.1.png\"/><a class=\"name\" data-eid=\"qd_C41\" href=\"//me.qidian.com/authorIndex.aspx?id=4362453\" target=\"_blank\">辰东</a><em>|</em><a data-eid=\"qd_C42\" href=\"//xuanhuan.qidian.com\" target=\"_blank\">玄幻</a><em>|</em><span>连载</span> </p> <p class=\"intro\">\r",
      "                                                        在破败中崛起，在寂灭中复苏。沧海成尘，雷电枯竭，那一缕幽雾又一次临近大地，世间的枷锁被打开了，一个全新的世界就此揭开神秘的一角……\r",
      "                                                    </p> <p class=\"update\"><a data-bid=\"1004608738\" data-cid=\"//vipreader.qidian.com/chapter/1004608738/378389956\" data-eid=\"qd_C43\" href=\"//vipreader.qidian.com/chapter/1004608738/378389956\" target=\"_blank\">最新更新 第五百二十四章 天纵妖孽</a><em>·</em><span>2017-07-18 07:52</span> </p> </div> <div class=\"book-right-info\"> <div class=\"total\"> <p><span>32666</span>月票</p> </div> <p class=\"btn\"> <a class=\"red-btn\" data-bid=\"1004608738\" data-eid=\"qd_C37\" href=\"//book.qidian.com/info/1004608738\" target=\"_blank\">书籍详情</a> <a class=\"blue-btn add-book\" data-bid=\"1004608738\" data-bookid=\"1004608738\" data-eid=\"qd_C38\" href=\"javascript:\">加入书架</a> </p> </div> </li>\n",
      "<li data-rid=\"2\"> <div class=\"book-img-box\"> <span class=\"rank-tag no2\">2<cite></cite></span> <a data-bid=\"1003354631\" data-eid=\"qd_C39\" href=\"//book.qidian.com/info/1003354631\" target=\"_blank\"><img src=\"//qidian.qpic.cn/qdbimg/349573/1003354631/150\"/></a> </div> <div class=\"book-mid-info\"> <h4><a data-bid=\"1003354631\" data-eid=\"qd_C40\" href=\"//book.qidian.com/info/1003354631\" target=\"_blank\">一念永恒</a></h4> <p class=\"author\"> <img src=\"//qidian.gtimg.com/qd/images/ico/user.0.1.png\"/><a class=\"name\" data-eid=\"qd_C41\" href=\"//me.qidian.com/authorIndex.aspx?id=4362120\" target=\"_blank\">耳根</a><em>|</em><a data-eid=\"qd_C42\" href=\"//xianxia.qidian.com\" target=\"_blank\">仙侠</a><em>|</em><span>连载</span> </p> <p class=\"intro\">\r",
      "                                                        一念成沧海，一念化桑田。一念斩千魔，一念诛万仙。唯我念……永恒这是耳根继《仙逆》《求魔》《我欲封天》后，创作的第四部长篇小说《一念永恒》\r",
      "                                                    </p> <p class=\"update\"><a data-bid=\"1003354631\" data-cid=\"//vipreader.qidian.com/chapter/1003354631/378284639\" data-eid=\"qd_C43\" href=\"//vipreader.qidian.com/chapter/1003354631/378284639\" target=\"_blank\">最新更新 第912章 全宗搬家</a><em>·</em><span>2017-07-18 11:50</span> </p> </div> <div class=\"book-right-info\"> <div class=\"total\"> <p><span>23865</span>月票</p> </div> <p class=\"btn\"> <a class=\"red-btn\" data-bid=\"1003354631\" data-eid=\"qd_C37\" href=\"//book.qidian.com/info/1003354631\" target=\"_blank\">书籍详情</a> <a class=\"blue-btn add-book\" data-bid=\"1003354631\" data-bookid=\"1003354631\" data-eid=\"qd_C38\" href=\"javascript:\">加入书架</a> </p> </div> </li>\n",
      "<li data-rid=\"3\"> <div class=\"book-img-box\"> <span class=\"rank-tag no3\">3<cite></cite></span> <a data-bid=\"1003307568\" data-eid=\"qd_C39\" href=\"//book.qidian.com/info/1003307568\" target=\"_blank\"><img src=\"//qidian.qpic.cn/qdbimg/349573/1003307568/150\"/></a> </div> <div class=\"book-mid-info\"> <h4><a data-bid=\"1003307568\" data-eid=\"qd_C40\" href=\"//book.qidian.com/info/1003307568\" target=\"_blank\">不朽凡人</a></h4> <p class=\"author\"> <img src=\"//qidian.gtimg.com/qd/images/ico/user.0.1.png\"/><a class=\"name\" data-eid=\"qd_C41\" href=\"//me.qidian.com/authorIndex.aspx?id=2342811\" target=\"_blank\">鹅是老五</a><em>|</em><a data-eid=\"qd_C42\" href=\"//xianxia.qidian.com\" target=\"_blank\">仙侠</a><em>|</em><span>连载</span> </p> <p class=\"intro\">\r",
      "                                                        在这里，拥有灵根才能修仙，所有凡根注定只是凡人。莫无忌，只有凡根，一介凡人！\r",
      "                                                    </p> <p class=\"update\"><a data-bid=\"1003307568\" data-cid=\"//vipreader.qidian.com/chapter/1003307568/378352836\" data-eid=\"qd_C43\" href=\"//vipreader.qidian.com/chapter/1003307568/378352836\" target=\"_blank\">最新更新 第九百一十五章 运气好的育神小修</a><em>·</em><span>2017-07-17 21:26</span> </p> </div> <div class=\"book-right-info\"> <div class=\"total\"> <p><span>16051</span>月票</p> </div> <p class=\"btn\"> <a class=\"red-btn\" data-bid=\"1003307568\" data-eid=\"qd_C37\" href=\"//book.qidian.com/info/1003307568\" target=\"_blank\">书籍详情</a> <a class=\"blue-btn add-book\" data-bid=\"1003307568\" data-bookid=\"1003307568\" data-eid=\"qd_C38\" href=\"javascript:\">加入书架</a> </p> </div> </li>\n",
      "<li data-rid=\"4\"> <div class=\"book-img-box\"> <span class=\"rank-tag no4\">4<cite></cite></span> <a data-bid=\"3577214\" data-eid=\"qd_C39\" href=\"//book.qidian.com/info/3577214\" target=\"_blank\"><img src=\"//qidian.qpic.cn/qdbimg/349573/3577214/150\"/></a> </div> <div class=\"book-mid-info\"> <h4><a data-bid=\"3577214\" data-eid=\"qd_C40\" href=\"//book.qidian.com/info/3577214\" target=\"_blank\">我从凡间来</a></h4> <p class=\"author\"> <img src=\"//qidian.gtimg.com/qd/images/ico/user.0.1.png\"/><a class=\"name\" data-eid=\"qd_C41\" href=\"//me.qidian.com/authorIndex.aspx?id=2843761\" target=\"_blank\">想见江南</a><em>|</em><a data-eid=\"qd_C42\" href=\"//xianxia.qidian.com\" target=\"_blank\">仙侠</a><em>|</em><span>连载</span> </p> <p class=\"intro\">\r",
      "                                                        我从凡间来，到此觅长生。***********我从凡间来普通群：546435549vip书友群：465327304（需全订验证）\r",
      "                                                    </p> <p class=\"update\"><a data-bid=\"3577214\" data-cid=\"//vipreader.qidian.com/chapter/3577214/378382650\" data-eid=\"qd_C43\" href=\"//vipreader.qidian.com/chapter/3577214/378382650\" target=\"_blank\">最新更新 二百三十六章 自食其果？</a><em>·</em><span>2017-07-18 08:00</span> </p> </div> <div class=\"book-right-info\"> <div class=\"total\"> <p><span>15810</span>月票</p> </div> <p class=\"btn\"> <a class=\"red-btn\" data-bid=\"3577214\" data-eid=\"qd_C37\" href=\"//book.qidian.com/info/3577214\" target=\"_blank\">书籍详情</a> <a class=\"blue-btn add-book\" data-bid=\"3577214\" data-bookid=\"3577214\" data-eid=\"qd_C38\" href=\"javascript:\">加入书架</a> </p> </div> </li>\n",
      "<li data-rid=\"5\"> <div class=\"book-img-box\"> <span class=\"rank-tag no5\">5<cite></cite></span> <a data-bid=\"1003683523\" data-eid=\"qd_C39\" href=\"//book.qidian.com/info/1003683523\" target=\"_blank\"><img src=\"//qidian.qpic.cn/qdbimg/349573/1003683523/150\"/></a> </div> <div class=\"book-mid-info\"> <h4><a data-bid=\"1003683523\" data-eid=\"qd_C40\" href=\"//book.qidian.com/info/1003683523\" target=\"_blank\">最后一个使徒</a></h4> <p class=\"author\"> <img src=\"//qidian.gtimg.com/qd/images/ico/user.0.1.png\"/><a class=\"name\" data-eid=\"qd_C41\" href=\"//me.qidian.com/authorIndex.aspx?id=1083493\" target=\"_blank\">卷土</a><em>|</em><a data-eid=\"qd_C42\" href=\"//xuanhuan.qidian.com\" target=\"_blank\">玄幻</a><em>|</em><span>连载</span> </p> <p class=\"intro\">\r",
      "                                                        黄沙掩埋了白骨，夕阳下的风中，有着血腥的味道。大陆的痛楚，在朝着四面八方扩散，当大爆炸的历史出现拐点的时候，当巨大的钢铁要塞横亘而过，遮蔽住人们视野的时候，当使徒的阴谋悄然深入到了\r",
      "                                                    </p> <p class=\"update\"><a data-bid=\"1003683523\" data-cid=\"//vipreader.qidian.com/chapter/1003683523/378303856\" data-eid=\"qd_C43\" href=\"//vipreader.qidian.com/chapter/1003683523/378303856\" target=\"_blank\">最新更新 第一百七十八章 昏迷</a><em>·</em><span>2017-07-17 18:05</span> </p> </div> <div class=\"book-right-info\"> <div class=\"total\"> <p><span>15694</span>月票</p> </div> <p class=\"btn\"> <a class=\"red-btn\" data-bid=\"1003683523\" data-eid=\"qd_C37\" href=\"//book.qidian.com/info/1003683523\" target=\"_blank\">书籍详情</a> <a class=\"blue-btn add-book\" data-bid=\"1003683523\" data-bookid=\"1003683523\" data-eid=\"qd_C38\" href=\"javascript:\">加入书架</a> </p> </div> </li>\n",
      "<li data-rid=\"6\"> <div class=\"book-img-box\"> <span class=\"rank-tag no6\">6<cite></cite></span> <a data-bid=\"3258971\" data-eid=\"qd_C39\" href=\"//book.qidian.com/info/3258971\" target=\"_blank\"><img src=\"//qidian.qpic.cn/qdbimg/349573/3258971/150\"/></a> </div> <div class=\"book-mid-info\"> <h4><a data-bid=\"3258971\" data-eid=\"qd_C40\" href=\"//book.qidian.com/info/3258971\" target=\"_blank\">帝霸</a></h4> <p class=\"author\"> <img src=\"//qidian.gtimg.com/qd/images/ico/user.0.1.png\"/><a class=\"name\" data-eid=\"qd_C41\" href=\"//me.qidian.com/authorIndex.aspx?id=3995219\" target=\"_blank\">厌笔萧生</a><em>|</em><a data-eid=\"qd_C42\" href=\"//xuanhuan.qidian.com\" target=\"_blank\">玄幻</a><em>|</em><span>连载</span> </p> <p class=\"intro\">\r",
      "                                                        千万年前，李七夜栽下一株翠竹。八百万年前，李七夜养了一条鲤鱼。五百万年前，李七夜收养一个小女孩。今天，李七夜一觉醒来，翠竹修练成神灵，鲤鱼化作金龙，小女孩成为九界女帝。这是一个养成\r",
      "                                                    </p> <p class=\"update\"><a data-bid=\"3258971\" data-cid=\"//vipreader.qidian.com/chapter/3258971/378393158\" data-eid=\"qd_C43\" href=\"//vipreader.qidian.com/chapter/3258971/378393158\" target=\"_blank\">最新更新 第2617章始祖</a><em>·</em><span>2017-07-18 08:59</span> </p> </div> <div class=\"book-right-info\"> <div class=\"total\"> <p><span>15381</span>月票</p> </div> <p class=\"btn\"> <a class=\"red-btn\" data-bid=\"3258971\" data-eid=\"qd_C37\" href=\"//book.qidian.com/info/3258971\" target=\"_blank\">书籍详情</a> <a class=\"blue-btn add-book\" data-bid=\"3258971\" data-bookid=\"3258971\" data-eid=\"qd_C38\" href=\"javascript:\">加入书架</a> </p> </div> </li>\n",
      "<li data-rid=\"7\"> <div class=\"book-img-box\"> <span class=\"rank-tag no7\">7<cite></cite></span> <a data-bid=\"1004179514\" data-eid=\"qd_C39\" href=\"//book.qidian.com/info/1004179514\" target=\"_blank\"><img src=\"//qidian.qpic.cn/qdbimg/349573/1004179514/150\"/></a> </div> <div class=\"book-mid-info\"> <h4><a data-bid=\"1004179514\" data-eid=\"qd_C40\" href=\"//book.qidian.com/info/1004179514\" target=\"_blank\">天道图书馆</a></h4> <p class=\"author\"> <img src=\"//qidian.gtimg.com/qd/images/ico/user.0.1.png\"/><a class=\"name\" data-eid=\"qd_C41\" href=\"//me.qidian.com/authorIndex.aspx?id=4362968\" target=\"_blank\">横扫天涯</a><em>|</em><a data-eid=\"qd_C42\" href=\"//xuanhuan.qidian.com\" target=\"_blank\">玄幻</a><em>|</em><span>连载</span> </p> <p class=\"intro\">\r",
      "                                                        【2017最火玄幻作品，海外点击第一】张悬穿越异界，成了一名光荣的教师，脑海中多出了一个神秘的图书馆。只要他看过的东西，无论人还是物，都能自动形成书籍，记录下对方各种各样的缺点，于\r",
      "                                                    </p> <p class=\"update\"><a data-bid=\"1004179514\" data-cid=\"//vipreader.qidian.com/chapter/1004179514/378292160\" data-eid=\"qd_C43\" href=\"//vipreader.qidian.com/chapter/1004179514/378292160\" target=\"_blank\">最新更新 第五百八十六章 失败？</a><em>·</em><span>2017-07-17 21:00</span> </p> </div> <div class=\"book-right-info\"> <div class=\"total\"> <p><span>15362</span>月票</p> </div> <p class=\"btn\"> <a class=\"red-btn\" data-bid=\"1004179514\" data-eid=\"qd_C37\" href=\"//book.qidian.com/info/1004179514\" target=\"_blank\">书籍详情</a> <a class=\"blue-btn add-book\" data-bid=\"1004179514\" data-bookid=\"1004179514\" data-eid=\"qd_C38\" href=\"javascript:\">加入书架</a> </p> </div> </li>\n",
      "<li data-rid=\"8\"> <div class=\"book-img-box\"> <span class=\"rank-tag no8\">8<cite></cite></span> <a data-bid=\"1009265821\" data-eid=\"qd_C39\" href=\"//book.qidian.com/info/1009265821\" target=\"_blank\"><img src=\"//qidian.qpic.cn/qdbimg/349573/1009265821/150\"/></a> </div> <div class=\"book-mid-info\"> <h4><a data-bid=\"1009265821\" data-eid=\"qd_C40\" href=\"//book.qidian.com/info/1009265821\" target=\"_blank\">无疆</a></h4> <p class=\"author\"> <img src=\"//qidian.gtimg.com/qd/images/ico/user.0.1.png\"/><a class=\"name\" data-eid=\"qd_C41\" href=\"//me.qidian.com/authorIndex.aspx?id=4362291\" target=\"_blank\">小刀锋利</a><em>|</em><a data-eid=\"qd_C42\" href=\"//xianxia.qidian.com\" target=\"_blank\">仙侠</a><em>|</em><span>连载</span> </p> <p class=\"intro\">\r",
      "                                                        鹰击长空，鱼跃龙门，熊咆虎啸，万物皆有灵。末法之极，磁极轮转，世界变迁。曾经那个熟悉的世界，已经变得面目全非。当神话变成现实，当传说不再神秘，世界无疆，热血永恒。\r",
      "                                                    </p> <p class=\"update\"><a data-bid=\"1009265821\" data-cid=\"//vipreader.qidian.com/chapter/1009265821/378383097\" data-eid=\"qd_C43\" href=\"//vipreader.qidian.com/chapter/1009265821/378383097\" target=\"_blank\">最新更新 第一百三十七章 冲突</a><em>·</em><span>2017-07-18 02:16</span> </p> </div> <div class=\"book-right-info\"> <div class=\"total\"> <p><span>14771</span>月票</p> </div> <p class=\"btn\"> <a class=\"red-btn\" data-bid=\"1009265821\" data-eid=\"qd_C37\" href=\"//book.qidian.com/info/1009265821\" target=\"_blank\">书籍详情</a> <a class=\"blue-btn add-book\" data-bid=\"1009265821\" data-bookid=\"1009265821\" data-eid=\"qd_C38\" href=\"javascript:\">加入书架</a> </p> </div> </li>\n",
      "<li data-rid=\"9\"> <div class=\"book-img-box\"> <span class=\"rank-tag no9\">9<cite></cite></span> <a data-bid=\"3513193\" data-eid=\"qd_C39\" href=\"//book.qidian.com/info/3513193\" target=\"_blank\"><img src=\"//qidian.qpic.cn/qdbimg/349573/3513193/150\"/></a> </div> <div class=\"book-mid-info\"> <h4><a data-bid=\"3513193\" data-eid=\"qd_C40\" href=\"//book.qidian.com/info/3513193\" target=\"_blank\">雪鹰领主</a></h4> <p class=\"author\"> <img src=\"//qidian.gtimg.com/qd/images/ico/user.0.1.png\"/><a class=\"name\" data-eid=\"qd_C41\" href=\"//me.qidian.com/authorIndex.aspx?id=4362096\" target=\"_blank\">我吃西红柿</a><em>|</em><a data-eid=\"qd_C42\" href=\"//xuanhuan.qidian.com\" target=\"_blank\">玄幻</a><em>|</em><span>连载</span> </p> <p class=\"intro\">\r",
      "                                                        在夏族的安阳行省，有一个很小很不起眼的领地，叫——雪鹰领！故事，就从这里开始！**继《莽荒纪》《吞噬星空》《九鼎记》《盘龙》《星辰变》《寸芒》《星峰传说》后，番茄的第八本小说！\r",
      "                                                    </p> <p class=\"update\"><a data-bid=\"3513193\" data-cid=\"//vipreader.qidian.com/chapter/3513193/378250732\" data-eid=\"qd_C43\" href=\"//vipreader.qidian.com/chapter/3513193/378250732\" target=\"_blank\">最新更新 第38篇 第62章 领主（大结局下）</a><em>·</em><span>2017-07-17 03:58</span> </p> </div> <div class=\"book-right-info\"> <div class=\"total\"> <p><span>11445</span>月票</p> </div> <p class=\"btn\"> <a class=\"red-btn\" data-bid=\"3513193\" data-eid=\"qd_C37\" href=\"//book.qidian.com/info/3513193\" target=\"_blank\">书籍详情</a> <a class=\"blue-btn add-book\" data-bid=\"3513193\" data-bookid=\"3513193\" data-eid=\"qd_C38\" href=\"javascript:\">加入书架</a> </p> </div> </li>\n",
      "<li data-rid=\"10\"> <div class=\"book-img-box\"> <span class=\"rank-tag no10\">10<cite></cite></span> <a data-bid=\"3602691\" data-eid=\"qd_C39\" href=\"//book.qidian.com/info/3602691\" target=\"_blank\"><img src=\"//qidian.qpic.cn/qdbimg/349573/3602691/150\"/></a> </div> <div class=\"book-mid-info\"> <h4><a data-bid=\"3602691\" data-eid=\"qd_C40\" href=\"//book.qidian.com/info/3602691\" target=\"_blank\">修真聊天群</a></h4> <p class=\"author\"> <img src=\"//qidian.gtimg.com/qd/images/ico/user.0.1.png\"/><a class=\"name\" data-eid=\"qd_C41\" href=\"//me.qidian.com/authorIndex.aspx?id=4362241\" target=\"_blank\">圣骑士的传说</a><em>|</em><a data-eid=\"qd_C42\" href=\"//dushi.qidian.com\" target=\"_blank\">都市</a><em>|</em><span>连载</span> </p> <p class=\"intro\">\r",
      "                                                        某天，宋书航意外加入了一个仙侠中二病资深患者的交流群，里面的群友们都以‘道友’相称，群名片都是各种府主、洞主、真人、天师。连群主走失的宠物犬都称为大妖犬离家出走。整天聊的是炼丹、闯\r",
      "                                                    </p> <p class=\"update\"><a data-bid=\"3602691\" data-cid=\"//vipreader.qidian.com/chapter/3602691/378376075\" data-eid=\"qd_C43\" href=\"//vipreader.qidian.com/chapter/3602691/378376075\" target=\"_blank\">最新更新 第1326章 不会抠眼睛的大能不是好前辈</a><em>·</em><span>2017-07-17 23:54</span> </p> </div> <div class=\"book-right-info\"> <div class=\"total\"> <p><span>11431</span>月票</p> </div> <p class=\"btn\"> <a class=\"red-btn\" data-bid=\"3602691\" data-eid=\"qd_C37\" href=\"//book.qidian.com/info/3602691\" target=\"_blank\">书籍详情</a> <a class=\"blue-btn add-book\" data-bid=\"3602691\" data-bookid=\"3602691\" data-eid=\"qd_C38\" href=\"javascript:\">加入书架</a> </p> </div> </li>\n",
      "<li data-rid=\"11\"> <div class=\"book-img-box\"> <span class=\"rank-tag no11\">11<cite></cite></span> <a data-bid=\"1003656831\" data-eid=\"qd_C39\" href=\"//book.qidian.com/info/1003656831\" target=\"_blank\"><img src=\"//qidian.qpic.cn/qdbimg/349573/1003656831/150\"/></a> </div> <div class=\"book-mid-info\"> <h4><a data-bid=\"1003656831\" data-eid=\"qd_C40\" href=\"//book.qidian.com/info/1003656831\" target=\"_blank\">神级幸运星</a></h4> <p class=\"author\"> <img src=\"//qidian.gtimg.com/qd/images/ico/user.0.1.png\"/><a class=\"name\" data-eid=\"qd_C41\" href=\"//me.qidian.com/authorIndex.aspx?id=3760200\" target=\"_blank\">辰机唐红豆</a><em>|</em><a data-eid=\"qd_C42\" href=\"//dushi.qidian.com\" target=\"_blank\">都市</a><em>|</em><span>连载</span> </p> <p class=\"intro\">\r",
      "                                                        无意中获得了一枚运气骰子，还穿越到娱乐业匮乏的平行位面，王昊这下牛逼了。运气骰子的六个面分别是“非常倒霉，倒霉，普通，好运，非常好运，神级好运”，每天零点刷新！“不知道今天会是什么\r",
      "                                                    </p> <p class=\"update\"><a data-bid=\"1003656831\" data-cid=\"//vipreader.qidian.com/chapter/1003656831/378261192\" data-eid=\"qd_C43\" href=\"//vipreader.qidian.com/chapter/1003656831/378261192\" target=\"_blank\">最新更新 第五六五章 金莎猛虎！</a><em>·</em><span>2017-07-18 09:00</span> </p> </div> <div class=\"book-right-info\"> <div class=\"total\"> <p><span>11334</span>月票</p> </div> <p class=\"btn\"> <a class=\"red-btn\" data-bid=\"1003656831\" data-eid=\"qd_C37\" href=\"//book.qidian.com/info/1003656831\" target=\"_blank\">书籍详情</a> <a class=\"blue-btn add-book\" data-bid=\"1003656831\" data-bookid=\"1003656831\" data-eid=\"qd_C38\" href=\"javascript:\">加入书架</a> </p> </div> </li>\n",
      "<li data-rid=\"12\"> <div class=\"book-img-box\"> <span class=\"rank-tag no12\">12<cite></cite></span> <a data-bid=\"3347598\" data-eid=\"qd_C39\" href=\"//book.qidian.com/info/3347598\" target=\"_blank\"><img src=\"//qidian.qpic.cn/qdbimg/349573/3347598/150\"/></a> </div> <div class=\"book-mid-info\"> <h4><a data-bid=\"3347598\" data-eid=\"qd_C40\" href=\"//book.qidian.com/info/3347598\" target=\"_blank\">我真是大明星</a></h4> <p class=\"author\"> <img src=\"//qidian.gtimg.com/qd/images/ico/user.0.1.png\"/><a class=\"name\" data-eid=\"qd_C41\" href=\"//me.qidian.com/authorIndex.aspx?id=4362273\" target=\"_blank\">尝谕</a><em>|</em><a data-eid=\"qd_C42\" href=\"//dushi.qidian.com\" target=\"_blank\">都市</a><em>|</em><span>连载</span> </p> <p class=\"intro\">\r",
      "                                                        一心想当明星的张烨穿越到了一个类似地球的新世界。电视台。主持人招聘现场。一个声音高声朗诵：“在苍茫的大海上，狂风卷集着乌云。在乌云和大海之间，海燕像黑色的闪电，在高傲地飞翔……暴风\r",
      "                                                    </p> <p class=\"update\"><a data-bid=\"3347598\" data-cid=\"//vipreader.qidian.com/chapter/3347598/378284969\" data-eid=\"qd_C43\" href=\"//vipreader.qidian.com/chapter/3347598/378284969\" target=\"_blank\">最新更新 第1594章【《飘》全球首发！】</a><em>·</em><span>2017-07-17 13:05</span> </p> </div> <div class=\"book-right-info\"> <div class=\"total\"> <p><span>10923</span>月票</p> </div> <p class=\"btn\"> <a class=\"red-btn\" data-bid=\"3347598\" data-eid=\"qd_C37\" href=\"//book.qidian.com/info/3347598\" target=\"_blank\">书籍详情</a> <a class=\"blue-btn add-book\" data-bid=\"3347598\" data-bookid=\"3347598\" data-eid=\"qd_C38\" href=\"javascript:\">加入书架</a> </p> </div> </li>\n",
      "<li data-rid=\"13\"> <div class=\"book-img-box\"> <span class=\"rank-tag no13\">13<cite></cite></span> <a data-bid=\"1003541158\" data-eid=\"qd_C39\" href=\"//book.qidian.com/info/1003541158\" target=\"_blank\"><img src=\"//qidian.qpic.cn/qdbimg/349573/1003541158/150\"/></a> </div> <div class=\"book-mid-info\"> <h4><a data-bid=\"1003541158\" data-eid=\"qd_C40\" href=\"//book.qidian.com/info/1003541158\" target=\"_blank\">我的1979</a></h4> <p class=\"author\"> <img src=\"//qidian.gtimg.com/qd/images/ico/user.0.1.png\"/><a class=\"name\" data-eid=\"qd_C41\" href=\"//me.qidian.com/authorIndex.aspx?id=1030909\" target=\"_blank\">争斤论两花花帽</a><em>|</em><a data-eid=\"qd_C42\" href=\"//dushi.qidian.com\" target=\"_blank\">都市</a><em>|</em><span>连载</span> </p> <p class=\"intro\">\r",
      "                                                        一觉醒来，回到70年代，再次面对过往，你猜不透的结局..........\r",
      "                                                    </p> <p class=\"update\"><a data-bid=\"1003541158\" data-cid=\"//vipreader.qidian.com/chapter/1003541158/378347487\" data-eid=\"qd_C43\" href=\"//vipreader.qidian.com/chapter/1003541158/378347487\" target=\"_blank\">最新更新 不好意思说</a><em>·</em><span>2017-07-17 20:46</span> </p> </div> <div class=\"book-right-info\"> <div class=\"total\"> <p><span>10418</span>月票</p> </div> <p class=\"btn\"> <a class=\"red-btn\" data-bid=\"1003541158\" data-eid=\"qd_C37\" href=\"//book.qidian.com/info/1003541158\" target=\"_blank\">书籍详情</a> <a class=\"blue-btn add-book\" data-bid=\"1003541158\" data-bookid=\"1003541158\" data-eid=\"qd_C38\" href=\"javascript:\">加入书架</a> </p> </div> </li>\n",
      "<li data-rid=\"14\"> <div class=\"book-img-box\"> <span class=\"rank-tag no14\">14<cite></cite></span> <a data-bid=\"1003694333\" data-eid=\"qd_C39\" href=\"//book.qidian.com/info/1003694333\" target=\"_blank\"><img src=\"//qidian.qpic.cn/qdbimg/349573/1003694333/150\"/></a> </div> <div class=\"book-mid-info\"> <h4><a data-bid=\"1003694333\" data-eid=\"qd_C40\" href=\"//book.qidian.com/info/1003694333\" target=\"_blank\">斗战狂潮</a></h4> <p class=\"author\"> <img src=\"//qidian.gtimg.com/qd/images/ico/user.0.1.png\"/><a class=\"name\" data-eid=\"qd_C41\" href=\"//me.qidian.com/authorIndex.aspx?id=4362443\" target=\"_blank\">骷髅精灵</a><em>|</em><a data-eid=\"qd_C42\" href=\"//xianxia.qidian.com\" target=\"_blank\">仙侠</a><em>|</em><span>连载</span> </p> <p class=\"intro\">\r",
      "                                                        双月当空，无限可能的英魂世界孤寂黑暗，神秘古怪的嬉命小丑百城联邦，三大帝国，异族横行，魂兽霸幽这是一个英雄辈出的年代，人类卧薪尝胆重掌地球主权，孕育着进军高纬度的野望！重点是……二\r",
      "                                                    </p> <p class=\"update\"><a data-bid=\"1003694333\" data-cid=\"//vipreader.qidian.com/chapter/1003694333/378338530\" data-eid=\"qd_C43\" href=\"//vipreader.qidian.com/chapter/1003694333/378338530\" target=\"_blank\">最新更新 第十三章 奇迹，胜利！</a><em>·</em><span>2017-07-18 00:00</span> </p> </div> <div class=\"book-right-info\"> <div class=\"total\"> <p><span>9987</span>月票</p> </div> <p class=\"btn\"> <a class=\"red-btn\" data-bid=\"1003694333\" data-eid=\"qd_C37\" href=\"//book.qidian.com/info/1003694333\" target=\"_blank\">书籍详情</a> <a class=\"blue-btn add-book\" data-bid=\"1003694333\" data-bookid=\"1003694333\" data-eid=\"qd_C38\" href=\"javascript:\">加入书架</a> </p> </div> </li>\n",
      "<li data-rid=\"15\"> <div class=\"book-img-box\"> <span class=\"rank-tag no15\">15<cite></cite></span> <a data-bid=\"1004142144\" data-eid=\"qd_C39\" href=\"//book.qidian.com/info/1004142144\" target=\"_blank\"><img src=\"//qidian.qpic.cn/qdbimg/349573/1004142144/150\"/></a> </div> <div class=\"book-mid-info\"> <h4><a data-bid=\"1004142144\" data-eid=\"qd_C40\" href=\"//book.qidian.com/info/1004142144\" target=\"_blank\">武道宗师</a></h4> <p class=\"author\"> <img src=\"//qidian.gtimg.com/qd/images/ico/user.0.1.png\"/><a class=\"name\" data-eid=\"qd_C41\" href=\"//me.qidian.com/authorIndex.aspx?id=4362088\" target=\"_blank\">爱潜水的乌贼</a><em>|</em><a data-eid=\"qd_C42\" href=\"//xuanhuan.qidian.com\" target=\"_blank\">玄幻</a><em>|</em><span>连载</span> </p> <p class=\"intro\">\r",
      "                                                        在这里，武道不再是虚无缥缈的传说，而是切切实实的传承，经过与科技的对抗后，彻底融入了社会，有了各种各样的武道比赛，文无第一，武无第二！楼成得到武道一大流派断绝的传承后，向着最初的梦\r",
      "                                                    </p> <p class=\"update\"><a data-bid=\"1004142144\" data-cid=\"//vipreader.qidian.com/chapter/1004142144/378428960\" data-eid=\"qd_C43\" href=\"//vipreader.qidian.com/chapter/1004142144/378428960\" target=\"_blank\">最新更新 第十九章 热门强者</a><em>·</em><span>2017-07-18 13:18</span> </p> </div> <div class=\"book-right-info\"> <div class=\"total\"> <p><span>9456</span>月票</p> </div> <p class=\"btn\"> <a class=\"red-btn\" data-bid=\"1004142144\" data-eid=\"qd_C37\" href=\"//book.qidian.com/info/1004142144\" target=\"_blank\">书籍详情</a> <a class=\"blue-btn add-book\" data-bid=\"1004142144\" data-bookid=\"1004142144\" data-eid=\"qd_C38\" href=\"javascript:\">加入书架</a> </p> </div> </li>\n",
      "<li data-rid=\"16\"> <div class=\"book-img-box\"> <span class=\"rank-tag no16\">16<cite></cite></span> <a data-bid=\"1005401501\" data-eid=\"qd_C39\" href=\"//book.qidian.com/info/1005401501\" target=\"_blank\"><img src=\"//qidian.qpic.cn/qdbimg/349573/1005401501/150\"/></a> </div> <div class=\"book-mid-info\"> <h4><a data-bid=\"1005401501\" data-eid=\"qd_C40\" href=\"//book.qidian.com/info/1005401501\" target=\"_blank\">极道天魔</a></h4> <p class=\"author\"> <img src=\"//qidian.gtimg.com/qd/images/ico/user.0.1.png\"/><a class=\"name\" data-eid=\"qd_C41\" href=\"//me.qidian.com/authorIndex.aspx?id=2660272\" target=\"_blank\">滚开</a><em>|</em><a data-eid=\"qd_C42\" href=\"//xianxia.qidian.com\" target=\"_blank\">仙侠</a><em>|</em><span>连载</span> </p> <p class=\"intro\">\r",
      "                                                        妖魔横行，世人苦难。神兵魔刃，遮耀天下。——————————————————————手机上的一款游戏修改器，意外成了路胜脑海里的异能。也成了他在这个黑暗乱世唯一的依靠。~~~~~~\r",
      "                                                    </p> <p class=\"update\"><a data-bid=\"1005401501\" data-cid=\"//vipreader.qidian.com/chapter/1005401501/378308213\" data-eid=\"qd_C43\" href=\"//vipreader.qidian.com/chapter/1005401501/378308213\" target=\"_blank\">最新更新 第二百八十章 注定的毁灭 十</a><em>·</em><span>2017-07-17 17:00</span> </p> </div> <div class=\"book-right-info\"> <div class=\"total\"> <p><span>7626</span>月票</p> </div> <p class=\"btn\"> <a class=\"red-btn\" data-bid=\"1005401501\" data-eid=\"qd_C37\" href=\"//book.qidian.com/info/1005401501\" target=\"_blank\">书籍详情</a> <a class=\"blue-btn add-book\" data-bid=\"1005401501\" data-bookid=\"1005401501\" data-eid=\"qd_C38\" href=\"javascript:\">加入书架</a> </p> </div> </li>\n",
      "<li data-rid=\"17\"> <div class=\"book-img-box\"> <span class=\"rank-tag no17\">17<cite></cite></span> <a data-bid=\"3681560\" data-eid=\"qd_C39\" href=\"//book.qidian.com/info/3681560\" target=\"_blank\"><img src=\"//qidian.qpic.cn/qdbimg/349573/3681560/150\"/></a> </div> <div class=\"book-mid-info\"> <h4><a data-bid=\"3681560\" data-eid=\"qd_C40\" href=\"//book.qidian.com/info/3681560\" target=\"_blank\">龙王传说</a></h4> <p class=\"author\"> <img src=\"//qidian.gtimg.com/qd/images/ico/user.0.1.png\"/><a class=\"name\" data-eid=\"qd_C41\" href=\"//me.qidian.com/authorIndex.aspx?id=4921\" target=\"_blank\">唐家三少</a><em>|</em><a data-eid=\"qd_C42\" href=\"//xuanhuan.qidian.com\" target=\"_blank\">玄幻</a><em>|</em><span>连载</span> </p> <p class=\"intro\">\r",
      "                                                        伴随着魂导科技的进步，斗罗大陆上的人类征服了海洋，又发现了两片大陆。魂兽也随着人类魂师的猎杀无度走向灭亡，沉睡无数年的魂兽之王在星斗大森林最后的净土苏醒，它要带领仅存的族人，向人类\r",
      "                                                    </p> <p class=\"update\"><a data-bid=\"3681560\" data-cid=\"//vipreader.qidian.com/chapter/3681560/378278706\" data-eid=\"qd_C43\" href=\"//vipreader.qidian.com/chapter/3681560/378278706\" target=\"_blank\">最新更新 第一千一百七十二章 仰望</a><em>·</em><span>2017-07-18 07:00</span> </p> </div> <div class=\"book-right-info\"> <div class=\"total\"> <p><span>7428</span>月票</p> </div> <p class=\"btn\"> <a class=\"red-btn\" data-bid=\"3681560\" data-eid=\"qd_C37\" href=\"//book.qidian.com/info/3681560\" target=\"_blank\">书籍详情</a> <a class=\"blue-btn add-book\" data-bid=\"3681560\" data-bookid=\"3681560\" data-eid=\"qd_C38\" href=\"javascript:\">加入书架</a> </p> </div> </li>\n",
      "<li data-rid=\"18\"> <div class=\"book-img-box\"> <span class=\"rank-tag no18\">18<cite></cite></span> <a data-bid=\"3548786\" data-eid=\"qd_C39\" href=\"//book.qidian.com/info/3548786\" target=\"_blank\"><img src=\"//qidian.qpic.cn/qdbimg/349573/3548786/150\"/></a> </div> <div class=\"book-mid-info\"> <h4><a data-bid=\"3548786\" data-eid=\"qd_C40\" href=\"//book.qidian.com/info/3548786\" target=\"_blank\">重生之都市修仙</a></h4> <p class=\"author\"> <img src=\"//qidian.gtimg.com/qd/images/ico/user.0.1.png\"/><a class=\"name\" data-eid=\"qd_C41\" href=\"//me.qidian.com/authorIndex.aspx?id=133955\" target=\"_blank\">十里剑神</a><em>|</em><a data-eid=\"qd_C42\" href=\"//dushi.qidian.com\" target=\"_blank\">都市</a><em>|</em><span>连载</span> </p> <p class=\"intro\">\r",
      "                                                        正式版：渡劫期大修士陈凡陨落在天劫中，却一梦五百年重回地球的年少时代。上一世我登临宇宙之巅，俯瞰万界，却无人相伴。这一世只愿不负前尘不负卿。通俗版：修行五百年的渡劫期修仙者重生回都\r",
      "                                                    </p> <p class=\"update\"><a data-bid=\"3548786\" data-cid=\"//vipreader.qidian.com/chapter/3548786/372962923\" data-eid=\"qd_C43\" href=\"//vipreader.qidian.com/chapter/3548786/372962923\" target=\"_blank\">最新更新 第940章 天下谁人不识君（第一更）</a><em>·</em><span>2017-06-04 23:55</span> </p> </div> <div class=\"book-right-info\"> <div class=\"total\"> <p><span>6696</span>月票</p> </div> <p class=\"btn\"> <a class=\"red-btn\" data-bid=\"3548786\" data-eid=\"qd_C37\" href=\"//book.qidian.com/info/3548786\" target=\"_blank\">书籍详情</a> <a class=\"blue-btn add-book\" data-bid=\"3548786\" data-bookid=\"3548786\" data-eid=\"qd_C38\" href=\"javascript:\">加入书架</a> </p> </div> </li>\n",
      "<li data-rid=\"19\"> <div class=\"book-img-box\"> <span class=\"rank-tag no19\">19<cite></cite></span> <a data-bid=\"3242304\" data-eid=\"qd_C39\" href=\"//book.qidian.com/info/3242304\" target=\"_blank\"><img src=\"//qidian.qpic.cn/qdbimg/349573/3242304/150\"/></a> </div> <div class=\"book-mid-info\"> <h4><a data-bid=\"3242304\" data-eid=\"qd_C40\" href=\"//book.qidian.com/info/3242304\" target=\"_blank\">异常生物见闻录</a></h4> <p class=\"author\"> <img src=\"//qidian.gtimg.com/qd/images/ico/user.0.1.png\"/><a class=\"name\" data-eid=\"qd_C41\" href=\"//me.qidian.com/authorIndex.aspx?id=4362948\" target=\"_blank\">远瞳</a><em>|</em><a data-eid=\"qd_C42\" href=\"//kehuan.qidian.com\" target=\"_blank\">科幻</a><em>|</em><span>连载</span> </p> <p class=\"intro\">\r",
      "                                                        郝仁，人如其名，是个好人，理想是平平安安过一辈子，当个穷不死但也发不了财的小房东——起码在他家里住进去一堆神经病生物之前是这样。一栋偏僻陈旧的大屋，一堆不怎么正常的人外生物，还有一\r",
      "                                                    </p> <p class=\"update\"><a data-bid=\"3242304\" data-cid=\"//vipreader.qidian.com/chapter/3242304/378360097\" data-eid=\"qd_C43\" href=\"//vipreader.qidian.com/chapter/3242304/378360097\" target=\"_blank\">最新更新 第一千五百四十章 修复</a><em>·</em><span>2017-07-18 08:05</span> </p> </div> <div class=\"book-right-info\"> <div class=\"total\"> <p><span>6183</span>月票</p> </div> <p class=\"btn\"> <a class=\"red-btn\" data-bid=\"3242304\" data-eid=\"qd_C37\" href=\"//book.qidian.com/info/3242304\" target=\"_blank\">书籍详情</a> <a class=\"blue-btn add-book\" data-bid=\"3242304\" data-bookid=\"3242304\" data-eid=\"qd_C38\" href=\"javascript:\">加入书架</a> </p> </div> </li>\n",
      "<li data-rid=\"20\"> <div class=\"book-img-box\"> <span class=\"rank-tag no20\">20<cite></cite></span> <a data-bid=\"2750457\" data-eid=\"qd_C39\" href=\"//book.qidian.com/info/2750457\" target=\"_blank\"><img src=\"//qidian.qpic.cn/qdbimg/349573/2750457/150\"/></a> </div> <div class=\"book-mid-info\"> <h4><a data-bid=\"2750457\" data-eid=\"qd_C40\" href=\"//book.qidian.com/info/2750457\" target=\"_blank\">大主宰</a></h4> <p class=\"author\"> <img src=\"//qidian.gtimg.com/qd/images/ico/user.0.1.png\"/><a class=\"name\" data-eid=\"qd_C41\" href=\"//me.qidian.com/authorIndex.aspx?id=1019021\" target=\"_blank\">天蚕土豆</a><em>|</em><a data-eid=\"qd_C42\" href=\"//xuanhuan.qidian.com\" target=\"_blank\">玄幻</a><em>|</em><span>完本</span> </p> <p class=\"intro\">\r",
      "                                                        大千世界，位面交汇，万族林立，群雄荟萃，一位位来自下位面的天之至尊，在这无尽世界，演绎着令人向往的传奇，追求着那主宰之路。无尽火域，炎帝执掌，万火焚苍穹。武境之内，武祖之威，震慑乾\r",
      "                                                    </p> <p class=\"update\"><a data-bid=\"2750457\" data-cid=\"//vipreader.qidian.com/chapter/2750457/377224422\" data-eid=\"qd_C43\" href=\"//vipreader.qidian.com/chapter/2750457/377224422\" target=\"_blank\">最新更新 第一千五百五十一章 邪神陨落（大结局）</a><em>·</em><span>2017-07-08 20:49</span> </p> </div> <div class=\"book-right-info\"> <div class=\"total\"> <p><span>5929</span>月票</p> </div> <p class=\"btn\"> <a class=\"red-btn\" data-bid=\"2750457\" data-eid=\"qd_C37\" href=\"//book.qidian.com/info/2750457\" target=\"_blank\">书籍详情</a> <a class=\"blue-btn add-book\" data-bid=\"2750457\" data-bookid=\"2750457\" data-eid=\"qd_C38\" href=\"javascript:\">加入书架</a> </p> </div> </li>\n"
     ]
    }
   ],
   "source": [
    "import requests\n",
    "from bs4 import BeautifulSoup\n",
    "\n",
    "res=requests.get('http://r.qidian.com/yuepiao?chn=-1&page=1')\n",
    "#print(res)#中间打印看看，好习惯\n",
    "soup=BeautifulSoup(res.text,'html.parser')\n",
    "#筛选器\n",
    "#print(soup)\n",
    "\n",
    "for news in soup.select('.rank-view-list li'):#定位    \n",
    "    print(news)"
   ]
  },
  {
   "cell_type": "code",
   "execution_count": 43,
   "metadata": {},
   "outputs": [
    {
     "ename": "IndentationError",
     "evalue": "unexpected indent (<ipython-input-43-38aa34b91006>, line 9)",
     "output_type": "error",
     "traceback": [
      "\u001b[1;36m  File \u001b[1;32m\"<ipython-input-43-38aa34b91006>\"\u001b[1;36m, line \u001b[1;32m9\u001b[0m\n\u001b[1;33m    newsary=(news.select('a')[1].text,\u001b[0m\n\u001b[1;37m    ^\u001b[0m\n\u001b[1;31mIndentationError\u001b[0m\u001b[1;31m:\u001b[0m unexpected indent\n"
     ]
    }
   ],
   "source": [
    "for news in soup.select('.rank-view-list li'):#Wrap后面一定有个空格，因为网页里有    \n",
    "    #print(news)\n",
    "    print(news.select('a')[1].text,\n",
    "          news.select('a')[2].text,\n",
    "          news.select('a')[3].text,\n",
    "          news.select('p')[1].text,\n",
    "          news.select('p')[2].text,\n",
    "          news.select('a')[0]['href'])\n",
    "    "
   ]
  },
  {
   "cell_type": "code",
   "execution_count": 44,
   "metadata": {},
   "outputs": [
    {
     "ename": "AttributeError",
     "evalue": "'dict' object has no attribute 'parent'",
     "output_type": "error",
     "traceback": [
      "\u001b[1;31m---------------------------------------------------------------------------\u001b[0m",
      "\u001b[1;31mAttributeError\u001b[0m                            Traceback (most recent call last)",
      "\u001b[1;32m<ipython-input-44-6a4dbbf542b8>\u001b[0m in \u001b[0;36m<module>\u001b[1;34m()\u001b[0m\n\u001b[0;32m      2\u001b[0m     \u001b[1;31m#print(news)\u001b[0m\u001b[1;33m\u001b[0m\u001b[1;33m\u001b[0m\u001b[0m\n\u001b[0;32m      3\u001b[0m     \u001b[1;31m#print(news.select('a')[1].text,news.select('a')[2].text,news.select('a')[3].text,news.select('p')[1].text,news.select('p')[2].text,news.select('a')[0]['href'])\u001b[0m\u001b[1;33m\u001b[0m\u001b[1;33m\u001b[0m\u001b[0m\n\u001b[1;32m----> 4\u001b[1;33m     \u001b[0mnewsary\u001b[0m\u001b[1;33m.\u001b[0m\u001b[0mappend\u001b[0m\u001b[1;33m(\u001b[0m\u001b[1;33m{\u001b[0m\u001b[1;34m'title'\u001b[0m\u001b[1;33m:\u001b[0m\u001b[0mnews\u001b[0m\u001b[1;33m.\u001b[0m\u001b[0mselect\u001b[0m\u001b[1;33m(\u001b[0m\u001b[1;34m'a'\u001b[0m\u001b[1;33m)\u001b[0m\u001b[1;33m[\u001b[0m\u001b[1;36m1\u001b[0m\u001b[1;33m]\u001b[0m\u001b[1;33m.\u001b[0m\u001b[0mtext\u001b[0m\u001b[1;33m,\u001b[0m\u001b[1;34m'name'\u001b[0m\u001b[1;33m:\u001b[0m\u001b[0mnews\u001b[0m\u001b[1;33m.\u001b[0m\u001b[0mselect\u001b[0m\u001b[1;33m(\u001b[0m\u001b[1;34m'a'\u001b[0m\u001b[1;33m)\u001b[0m\u001b[1;33m[\u001b[0m\u001b[1;36m2\u001b[0m\u001b[1;33m]\u001b[0m\u001b[1;33m.\u001b[0m\u001b[0mtext\u001b[0m\u001b[1;33m,\u001b[0m\u001b[1;34m'style'\u001b[0m\u001b[1;33m:\u001b[0m\u001b[0mnews\u001b[0m\u001b[1;33m.\u001b[0m\u001b[0mselect\u001b[0m\u001b[1;33m(\u001b[0m\u001b[1;34m'a'\u001b[0m\u001b[1;33m)\u001b[0m\u001b[1;33m[\u001b[0m\u001b[1;36m3\u001b[0m\u001b[1;33m]\u001b[0m\u001b[1;33m.\u001b[0m\u001b[0mtext\u001b[0m\u001b[1;33m,\u001b[0m\u001b[1;34m'describe'\u001b[0m\u001b[1;33m:\u001b[0m\u001b[0mnews\u001b[0m\u001b[1;33m.\u001b[0m\u001b[0mselect\u001b[0m\u001b[1;33m(\u001b[0m\u001b[1;34m'p'\u001b[0m\u001b[1;33m)\u001b[0m\u001b[1;33m[\u001b[0m\u001b[1;36m2\u001b[0m\u001b[1;33m]\u001b[0m\u001b[1;33m.\u001b[0m\u001b[0mtext\u001b[0m\u001b[1;33m,\u001b[0m\u001b[1;34m'url'\u001b[0m\u001b[1;33m:\u001b[0m\u001b[0mnews\u001b[0m\u001b[1;33m.\u001b[0m\u001b[0mselect\u001b[0m\u001b[1;33m(\u001b[0m\u001b[1;34m'a'\u001b[0m\u001b[1;33m)\u001b[0m\u001b[1;33m[\u001b[0m\u001b[1;36m0\u001b[0m\u001b[1;33m]\u001b[0m\u001b[1;33m[\u001b[0m\u001b[1;34m'href'\u001b[0m\u001b[1;33m]\u001b[0m\u001b[1;33m}\u001b[0m\u001b[1;33m)\u001b[0m\u001b[1;33m\u001b[0m\u001b[0m\n\u001b[0m",
      "\u001b[1;32mC:\\Users\\q\\Anaconda3\\lib\\site-packages\\bs4\\element.py\u001b[0m in \u001b[0;36mappend\u001b[1;34m(self, tag)\u001b[0m\n\u001b[0;32m    376\u001b[0m     \u001b[1;32mdef\u001b[0m \u001b[0mappend\u001b[0m\u001b[1;33m(\u001b[0m\u001b[0mself\u001b[0m\u001b[1;33m,\u001b[0m \u001b[0mtag\u001b[0m\u001b[1;33m)\u001b[0m\u001b[1;33m:\u001b[0m\u001b[1;33m\u001b[0m\u001b[0m\n\u001b[0;32m    377\u001b[0m         \u001b[1;34m\"\"\"Appends the given tag to the contents of this tag.\"\"\"\u001b[0m\u001b[1;33m\u001b[0m\u001b[0m\n\u001b[1;32m--> 378\u001b[1;33m         \u001b[0mself\u001b[0m\u001b[1;33m.\u001b[0m\u001b[0minsert\u001b[0m\u001b[1;33m(\u001b[0m\u001b[0mlen\u001b[0m\u001b[1;33m(\u001b[0m\u001b[0mself\u001b[0m\u001b[1;33m.\u001b[0m\u001b[0mcontents\u001b[0m\u001b[1;33m)\u001b[0m\u001b[1;33m,\u001b[0m \u001b[0mtag\u001b[0m\u001b[1;33m)\u001b[0m\u001b[1;33m\u001b[0m\u001b[0m\n\u001b[0m\u001b[0;32m    379\u001b[0m \u001b[1;33m\u001b[0m\u001b[0m\n\u001b[0;32m    380\u001b[0m     \u001b[1;32mdef\u001b[0m \u001b[0minsert_before\u001b[0m\u001b[1;33m(\u001b[0m\u001b[0mself\u001b[0m\u001b[1;33m,\u001b[0m \u001b[0mpredecessor\u001b[0m\u001b[1;33m)\u001b[0m\u001b[1;33m:\u001b[0m\u001b[1;33m\u001b[0m\u001b[0m\n",
      "\u001b[1;32mC:\\Users\\q\\Anaconda3\\lib\\site-packages\\bs4\\element.py\u001b[0m in \u001b[0;36minsert\u001b[1;34m(self, position, new_child)\u001b[0m\n\u001b[0;32m    331\u001b[0m             \u001b[0mnew_child\u001b[0m\u001b[1;33m.\u001b[0m\u001b[0mextract\u001b[0m\u001b[1;33m(\u001b[0m\u001b[1;33m)\u001b[0m\u001b[1;33m\u001b[0m\u001b[0m\n\u001b[0;32m    332\u001b[0m \u001b[1;33m\u001b[0m\u001b[0m\n\u001b[1;32m--> 333\u001b[1;33m         \u001b[0mnew_child\u001b[0m\u001b[1;33m.\u001b[0m\u001b[0mparent\u001b[0m \u001b[1;33m=\u001b[0m \u001b[0mself\u001b[0m\u001b[1;33m\u001b[0m\u001b[0m\n\u001b[0m\u001b[0;32m    334\u001b[0m         \u001b[0mprevious_child\u001b[0m \u001b[1;33m=\u001b[0m \u001b[1;32mNone\u001b[0m\u001b[1;33m\u001b[0m\u001b[0m\n\u001b[0;32m    335\u001b[0m         \u001b[1;32mif\u001b[0m \u001b[0mposition\u001b[0m \u001b[1;33m==\u001b[0m \u001b[1;36m0\u001b[0m\u001b[1;33m:\u001b[0m\u001b[1;33m\u001b[0m\u001b[0m\n",
      "\u001b[1;31mAttributeError\u001b[0m: 'dict' object has no attribute 'parent'"
     ]
    }
   ],
   "source": [
    "for news in soup.select('.book-mid-info'):\n",
    "    print(news.select('a')[0)['herf'])"
   ]
  },
  {
   "cell_type": "code",
   "execution_count": null,
   "metadata": {
    "collapsed": true
   },
   "outputs": [],
   "source": [
    "import pandas\n",
    "newsdf=pandas.DataFrame(newsary)\n",
    "newsdf"
   ]
  },
  {
   "cell_type": "code",
   "execution_count": null,
   "metadata": {
    "collapsed": true
   },
   "outputs": [],
   "source": [
    "import requests\n",
    "from bs4 import BeautifulSoup\n",
    "newsary=[]\n",
    "for i in range(25):\n",
    "    res=requests.get('http://r.qidian.com/yuepiao?chn=-1&page='+str(i))\n",
    "#print(res)\n",
    "    soup=BeautifulSoup(res.text,'html.parser')\n",
    "#print(soup)\n",
    "#for news in soup.select('.rank-view-list h4'):#Wrap后面一定有个空格，因为网页里有\n",
    "\n",
    "    for news in soup.select('.rank-view-list li'):#Wrap后面一定有个空格，因为网页里有    \n",
    "    #print(news)\n",
    "    #print(news.select('a')[1].text,news.select('a')[2].text,news.select('a')[3].text,news.select('p')[1].text,news.select('p')[2].text,news.select('a')[0]['href'])\n",
    "        newsary.append({'title':news.select('a')[1].text,'name':news.select('a')[2].text,'style':news.select('a')[3].text,'describe':news.select('p')[1].text,'lastest':news.select('p')[2].text,'url':news.select('a')[0]['href']})\n",
    "\n",
    "import pandas\n",
    "newsdf=pandas.DataFrame(newsary)\n",
    "newsdf"
   ]
  },
  {
   "cell_type": "code",
   "execution_count": 40,
   "metadata": {},
   "outputs": [
    {
     "ename": "NameError",
     "evalue": "name 'newsdf' is not defined",
     "output_type": "error",
     "traceback": [
      "\u001b[1;31m---------------------------------------------------------------------------\u001b[0m",
      "\u001b[1;31mNameError\u001b[0m                                 Traceback (most recent call last)",
      "\u001b[1;32m<ipython-input-40-7a4bacbb9df4>\u001b[0m in \u001b[0;36m<module>\u001b[1;34m()\u001b[0m\n\u001b[1;32m----> 1\u001b[1;33m \u001b[0mnewsdf\u001b[0m\u001b[1;33m.\u001b[0m\u001b[0mto_excel\u001b[0m\u001b[1;33m(\u001b[0m\u001b[1;34m'qidian_rank1.xlsx'\u001b[0m\u001b[1;33m)\u001b[0m\u001b[1;31m#输入到to按住Tab有很多格式，储存\u001b[0m\u001b[1;33m\u001b[0m\u001b[0m\n\u001b[0m",
      "\u001b[1;31mNameError\u001b[0m: name 'newsdf' is not defined"
     ]
    }
   ],
   "source": [
    "newsdf.to_excel('qidian_rank1.xlsx')#输入到to按住Tab有很多格式，储存"
   ]
  }
 ],
 "metadata": {
  "kernelspec": {
   "display_name": "Python 3",
   "language": "python",
   "name": "python3"
  },
  "language_info": {
   "codemirror_mode": {
    "name": "ipython",
    "version": 3
   },
   "file_extension": ".py",
   "mimetype": "text/x-python",
   "name": "python",
   "nbconvert_exporter": "python",
   "pygments_lexer": "ipython3",
   "version": "3.6.1"
  }
 },
 "nbformat": 4,
 "nbformat_minor": 2
}
